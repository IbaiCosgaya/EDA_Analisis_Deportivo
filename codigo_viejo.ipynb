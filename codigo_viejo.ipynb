{
 "cells": [
  {
   "cell_type": "markdown",
   "id": "55008414",
   "metadata": {},
   "source": [
    "**5.2 Crear columnas para saber si el Athletic ganó o perdió y checkear si iba perdiendo al descanso**"
   ]
  },
  {
   "cell_type": "code",
   "execution_count": null,
   "id": "a92a152e",
   "metadata": {},
   "outputs": [],
   "source": [
    "# partidos_ath.loc[:, 'VictoriaAthletic']  = ((partidos_ath['HomeTeam'] == 'Athletic') & (partidos_ath['Ganador'] == 'H')) | \\\n",
    "#                                    ((partidos_ath['AwayTeam'] == 'Athletic') & (partidos_ath['Ganador'] == 'A'))\n",
    "\n",
    "# partidos_ath.loc[:, 'EmpateAthletic'] = ((partidos_ath['HomeTeam'] == 'Athletic') & (partidos_ath['Ganador'] == 'D')) | \\\n",
    "#                                    ((partidos_ath['AwayTeam'] == 'Athletic') & (partidos_ath['Ganador'] == 'D'))\n",
    "\n",
    "# partidos_ath.loc[:, 'DerrotaDescanso'] = ((partidos_ath['HomeTeam'] == 'Athletic') & (partidos_ath['ResultadoDescanso'] == 'A')) | \\\n",
    "#                                ((partidos_ath['AwayTeam'] == 'Athletic') & (partidos_ath['ResultadoDescanso'] == 'H'))\n",
    "\n",
    "# partidos_ath\n"
   ]
  },
  {
   "cell_type": "markdown",
   "id": "24f44a2a",
   "metadata": {},
   "source": [
    "**5.3 Filtrar todos los partidos donde se remontó (tanto total como parcialmente) tras ir perdiendo al descanso**"
   ]
  },
  {
   "cell_type": "code",
   "execution_count": null,
   "id": "0a27e87b",
   "metadata": {},
   "outputs": [],
   "source": [
    "# remontada_total_ath = partidos_ath[(partidos_ath['VictoriaAthletic']) & (partidos_ath['DerrotaDescanso'])]\n",
    "# remontada_total_ath\n",
    "\n",
    "# remontada_parcial_ath = partidos_ath[(partidos_ath['EmpateAthletic']) & (partidos_ath['DerrotaDescanso'])]\n",
    "# remontada_parcial_ath"
   ]
  },
  {
   "cell_type": "markdown",
   "id": "e92dde1b",
   "metadata": {},
   "source": [
    "**5.4 Filtrar remontadas totales y parciales en casa**"
   ]
  },
  {
   "cell_type": "code",
   "execution_count": null,
   "id": "3d80f98f",
   "metadata": {},
   "outputs": [],
   "source": [
    "# remontadas_casa_total = remontada_total_ath[remontada_total_ath['HomeTeam'] == 'Athletic']\n",
    "# remontadas_casa_total\n",
    "\n",
    "# remontadas_casa_parcial = remontada_parcial_ath[remontada_parcial_ath['HomeTeam'] == 'Athletic']\n",
    "# remontadas_casa_parcial"
   ]
  },
  {
   "cell_type": "markdown",
   "id": "ad4ed418",
   "metadata": {},
   "source": [
    "**5.5 Filtrar remontadas totales y parciales fuera**"
   ]
  },
  {
   "cell_type": "code",
   "execution_count": null,
   "id": "b0f8679f",
   "metadata": {},
   "outputs": [],
   "source": [
    "# remontadas_fuera_total = remontada_total_ath[remontada_total_ath['AwayTeam'] == 'Athletic']\n",
    "# remontadas_fuera_total\n",
    "\n",
    "# remontadas_fuera_parcial = remontada_parcial_ath[remontada_parcial_ath['AwayTeam'] == 'Athletic']\n",
    "# remontadas_fuera_parcial"
   ]
  },
  {
   "cell_type": "markdown",
   "id": "b4589fab",
   "metadata": {},
   "source": [
    "**5.5 Comparacion de la tasa de *remontada total* en casa y fuera:**\n",
    "    *Total de partidos donde el Athletic iba perdiendo al descanso en casa y fuera, dividido entre las veces que se consiguió remontar tanto en casa como fuera*"
   ]
  },
  {
   "cell_type": "code",
   "execution_count": null,
   "id": "ca184cd3",
   "metadata": {},
   "outputs": [],
   "source": [
    "# casa_perdiendo_descanso = partidos_ath[(partidos_ath['HomeTeam'] == 'Athletic') & (partidos_ath['ResultadoDescanso'] == 'A')]\n",
    "# fuera_perdiendo_descanso = partidos_ath[(partidos_ath['AwayTeam'] == 'Athletic') & (partidos_ath['ResultadoDescanso'] == 'H')]\n",
    "\n",
    "# tasa_remontada_t_casa = len(remontadas_casa_total) / len(casa_perdiendo_descanso) * 100\n",
    "# tasa_remontada_t_fuera = len(remontadas_fuera_total) / len(fuera_perdiendo_descanso) * 100\n",
    "\n",
    "# print(f\"Tasa de remontadas totales en casa: {round(tasa_remontada_t_casa,2)}%\")\n",
    "# print(f\"Tasa de remontadas totales fuera de casa: {round(tasa_remontada_t_fuera,2)}%\")"
   ]
  },
  {
   "cell_type": "markdown",
   "id": "7ad07ab0",
   "metadata": {},
   "source": [
    "**5.6 Comparacion de la tasa de *remontada parcial* en casa y fuera:**\n",
    "*Lo mismo de antes pero para remontadas parciales*"
   ]
  },
  {
   "cell_type": "code",
   "execution_count": null,
   "id": "4f70ddb6",
   "metadata": {},
   "outputs": [],
   "source": [
    "# tasa_remontada_p_casa = len(remontadas_casa_parcial) / len(casa_perdiendo_descanso) * 100\n",
    "# tasa_remontada_p_fuera = len(remontadas_fuera_parcial) / len(fuera_perdiendo_descanso) * 100\n",
    "\n",
    "# print(f\"Tasa de remontadas parciales en casa: {round(tasa_remontada_p_casa,2)}%\")\n",
    "# print(f\"Tasa de remontadas parciales fuera de casa: {round(tasa_remontada_p_fuera,2)}%\")"
   ]
  },
  {
   "cell_type": "markdown",
   "id": "ab222d8a",
   "metadata": {},
   "source": [
    "**5.7 Comparacion de la tasa de *ambas remontada* en casa y fuera:**\n",
    "*La tasa de los dos tipos de remontadas*"
   ]
  },
  {
   "cell_type": "code",
   "execution_count": null,
   "id": "830659a3",
   "metadata": {},
   "outputs": [],
   "source": [
    "# tasa_amabas_remontada_casa = len(remontadas_casa_parcial+remontadas_casa_total) / len(casa_perdiendo_descanso) * 100\n",
    "# tasa_ambas_remontada_fuera = len(remontadas_fuera_parcial+remontadas_fuera_total) / len(fuera_perdiendo_descanso) * 100\n",
    "\n",
    "# print(f\"Tasa de ambas remontadas en casa: {round(tasa_amabas_remontada_casa,2)}%\")\n",
    "# print(f\"Tasa de ambas remontadas fuera de casa: {round(tasa_ambas_remontada_fuera,2)}%\")\n",
    "\n",
    "\n",
    "\n",
    "\n",
    "# home_no_comebacks = casa_perdiendo_descanso[~casa_perdiendo_descanso.index.isin(remontadas_casa_total.index)]\n",
    "# away_no_comebacks = fuera_perdiendo_descanso[~fuera_perdiendo_descanso.index.isin(remontadas_fuera_total.index)]\n",
    "\n",
    "# # Tasa de no remontadas\n",
    "# home_no_comeback_rate = len(home_no_comebacks) / len(casa_perdiendo_descanso) * 100\n",
    "# away_no_comeback_rate = len(away_no_comebacks) / len(fuera_perdiendo_descanso) * 100\n",
    "\n",
    "# print(f\"Tasa de no remontadas en casa: {home_no_comeback_rate:.2f}%\")\n",
    "# print(f\"Tasa de no remontadas fuera de casa: {away_no_comeback_rate:.2f}%\")"
   ]
  },
  {
   "cell_type": "markdown",
   "id": "abc03f24",
   "metadata": {},
   "source": [
    "**5.6 Porcentaje de remontadas por temporada**\n",
    "*Lo mismo de antes pero para remontadas parciales*"
   ]
  },
  {
   "cell_type": "code",
   "execution_count": null,
   "id": "d07b08a5",
   "metadata": {},
   "outputs": [],
   "source": [
    "# # Contar remontadas por temporada\n",
    "# remontadas_por_temporada = remontada_total_ath.groupby('Season').size()\n",
    "\n",
    "# # Total de partidos en los que iba perdiendo al descanso por temporada\n",
    "# total_losing_at_ht = partidos_ath[partidos_ath['DerrotaDescanso']].groupby('Season').size()\n",
    "\n",
    "# # Porcentaje de remontadas por temporada\n",
    "# remontada_rate_per_season = round((remontadas_por_temporada / total_losing_at_ht) * 100, 2)\n",
    "\n",
    "# remontada_rate_per_season = remontada_rate_per_season.fillna(\"Sin remontadas\")\n",
    "\n",
    "# remontada_rate_per_season"
   ]
  }
 ],
 "metadata": {
  "kernelspec": {
   "display_name": "Python 3",
   "language": "python",
   "name": "python3"
  },
  "language_info": {
   "codemirror_mode": {
    "name": "ipython",
    "version": 3
   },
   "file_extension": ".py",
   "mimetype": "text/x-python",
   "name": "python",
   "nbconvert_exporter": "python",
   "pygments_lexer": "ipython3",
   "version": "3.13.1"
  }
 },
 "nbformat": 4,
 "nbformat_minor": 5
}
